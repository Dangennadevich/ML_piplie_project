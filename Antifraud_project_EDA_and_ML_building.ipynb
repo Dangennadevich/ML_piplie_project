{
 "cells": [
  {
   "cell_type": "markdown",
   "id": "a35fb9c3-6f93-4771-88aa-65761da4c184",
   "metadata": {},
   "source": [
    "1. EDA"
   ]
  },
  {
   "cell_type": "code",
   "execution_count": 28,
   "id": "44f49de3-b766-4ebb-9f93-9f86ac1fc879",
   "metadata": {},
   "outputs": [],
   "source": [
    "import pandas as pd\n",
    "import numpy as np\n",
    "import re\n",
    "\n",
    "from matplotlib import pyplot as plt\n",
    "\n",
    "import warnings\n",
    "warnings.filterwarnings(\"ignore\")"
   ]
  },
  {
   "cell_type": "code",
   "execution_count": 2,
   "id": "843e48a0-b237-40c6-8bd1-b534f038a7f1",
   "metadata": {},
   "outputs": [],
   "source": [
    "#!gdown 1B9d9EkAHTdhRF4oWDEozKBzgoSP1dD8L"
   ]
  },
  {
   "cell_type": "code",
   "execution_count": 31,
   "id": "506119c4-bc02-4364-90b5-d95458c85280",
   "metadata": {},
   "outputs": [],
   "source": [
    "pd.set_option(\"display.max_columns\", None)"
   ]
  },
  {
   "cell_type": "code",
   "execution_count": 7,
   "id": "7d43c8c5-0ed8-43c0-860c-778cfd7c6c03",
   "metadata": {},
   "outputs": [],
   "source": [
    "df = pd.read_json('/Users/dan/git_repo/movs/python/2q/MLOps/ML_piplie_project/transactions.txt', lines=True)"
   ]
  },
  {
   "cell_type": "markdown",
   "id": "989b7aa6-8d30-4826-b76c-f0de533f063c",
   "metadata": {},
   "source": [
    "# 1. EDA"
   ]
  },
  {
   "cell_type": "code",
   "execution_count": 8,
   "id": "33880715-4122-43f6-b717-478c17f995e5",
   "metadata": {},
   "outputs": [
    {
     "data": {
      "text/plain": [
       "(786363, 29)"
      ]
     },
     "execution_count": 8,
     "metadata": {},
     "output_type": "execute_result"
    }
   ],
   "source": [
    "df.shape"
   ]
  },
  {
   "cell_type": "code",
   "execution_count": 9,
   "id": "2c766280-eaf3-40a0-92de-0f3d3311d389",
   "metadata": {},
   "outputs": [
    {
     "data": {
      "text/html": [
       "<div>\n",
       "<style scoped>\n",
       "    .dataframe tbody tr th:only-of-type {\n",
       "        vertical-align: middle;\n",
       "    }\n",
       "\n",
       "    .dataframe tbody tr th {\n",
       "        vertical-align: top;\n",
       "    }\n",
       "\n",
       "    .dataframe thead th {\n",
       "        text-align: right;\n",
       "    }\n",
       "</style>\n",
       "<table border=\"1\" class=\"dataframe\">\n",
       "  <thead>\n",
       "    <tr style=\"text-align: right;\">\n",
       "      <th></th>\n",
       "      <th>accountNumber</th>\n",
       "      <th>customerId</th>\n",
       "      <th>creditLimit</th>\n",
       "      <th>availableMoney</th>\n",
       "      <th>transactionDateTime</th>\n",
       "      <th>transactionAmount</th>\n",
       "      <th>merchantName</th>\n",
       "      <th>acqCountry</th>\n",
       "      <th>merchantCountryCode</th>\n",
       "      <th>posEntryMode</th>\n",
       "      <th>...</th>\n",
       "      <th>echoBuffer</th>\n",
       "      <th>currentBalance</th>\n",
       "      <th>merchantCity</th>\n",
       "      <th>merchantState</th>\n",
       "      <th>merchantZip</th>\n",
       "      <th>cardPresent</th>\n",
       "      <th>posOnPremises</th>\n",
       "      <th>recurringAuthInd</th>\n",
       "      <th>expirationDateKeyInMatch</th>\n",
       "      <th>isFraud</th>\n",
       "    </tr>\n",
       "  </thead>\n",
       "  <tbody>\n",
       "    <tr>\n",
       "      <th>0</th>\n",
       "      <td>737265056</td>\n",
       "      <td>737265056</td>\n",
       "      <td>5000</td>\n",
       "      <td>5000.0</td>\n",
       "      <td>2016-08-13T14:27:32</td>\n",
       "      <td>98.55</td>\n",
       "      <td>Uber</td>\n",
       "      <td>US</td>\n",
       "      <td>US</td>\n",
       "      <td>02</td>\n",
       "      <td>...</td>\n",
       "      <td></td>\n",
       "      <td>0.0</td>\n",
       "      <td></td>\n",
       "      <td></td>\n",
       "      <td></td>\n",
       "      <td>False</td>\n",
       "      <td></td>\n",
       "      <td></td>\n",
       "      <td>False</td>\n",
       "      <td>False</td>\n",
       "    </tr>\n",
       "    <tr>\n",
       "      <th>1</th>\n",
       "      <td>737265056</td>\n",
       "      <td>737265056</td>\n",
       "      <td>5000</td>\n",
       "      <td>5000.0</td>\n",
       "      <td>2016-10-11T05:05:54</td>\n",
       "      <td>74.51</td>\n",
       "      <td>AMC #191138</td>\n",
       "      <td>US</td>\n",
       "      <td>US</td>\n",
       "      <td>09</td>\n",
       "      <td>...</td>\n",
       "      <td></td>\n",
       "      <td>0.0</td>\n",
       "      <td></td>\n",
       "      <td></td>\n",
       "      <td></td>\n",
       "      <td>True</td>\n",
       "      <td></td>\n",
       "      <td></td>\n",
       "      <td>False</td>\n",
       "      <td>False</td>\n",
       "    </tr>\n",
       "    <tr>\n",
       "      <th>2</th>\n",
       "      <td>737265056</td>\n",
       "      <td>737265056</td>\n",
       "      <td>5000</td>\n",
       "      <td>5000.0</td>\n",
       "      <td>2016-11-08T09:18:39</td>\n",
       "      <td>7.47</td>\n",
       "      <td>Play Store</td>\n",
       "      <td>US</td>\n",
       "      <td>US</td>\n",
       "      <td>09</td>\n",
       "      <td>...</td>\n",
       "      <td></td>\n",
       "      <td>0.0</td>\n",
       "      <td></td>\n",
       "      <td></td>\n",
       "      <td></td>\n",
       "      <td>False</td>\n",
       "      <td></td>\n",
       "      <td></td>\n",
       "      <td>False</td>\n",
       "      <td>False</td>\n",
       "    </tr>\n",
       "    <tr>\n",
       "      <th>3</th>\n",
       "      <td>737265056</td>\n",
       "      <td>737265056</td>\n",
       "      <td>5000</td>\n",
       "      <td>5000.0</td>\n",
       "      <td>2016-12-10T02:14:50</td>\n",
       "      <td>7.47</td>\n",
       "      <td>Play Store</td>\n",
       "      <td>US</td>\n",
       "      <td>US</td>\n",
       "      <td>09</td>\n",
       "      <td>...</td>\n",
       "      <td></td>\n",
       "      <td>0.0</td>\n",
       "      <td></td>\n",
       "      <td></td>\n",
       "      <td></td>\n",
       "      <td>False</td>\n",
       "      <td></td>\n",
       "      <td></td>\n",
       "      <td>False</td>\n",
       "      <td>False</td>\n",
       "    </tr>\n",
       "    <tr>\n",
       "      <th>4</th>\n",
       "      <td>830329091</td>\n",
       "      <td>830329091</td>\n",
       "      <td>5000</td>\n",
       "      <td>5000.0</td>\n",
       "      <td>2016-03-24T21:04:46</td>\n",
       "      <td>71.18</td>\n",
       "      <td>Tim Hortons #947751</td>\n",
       "      <td>US</td>\n",
       "      <td>US</td>\n",
       "      <td>02</td>\n",
       "      <td>...</td>\n",
       "      <td></td>\n",
       "      <td>0.0</td>\n",
       "      <td></td>\n",
       "      <td></td>\n",
       "      <td></td>\n",
       "      <td>True</td>\n",
       "      <td></td>\n",
       "      <td></td>\n",
       "      <td>False</td>\n",
       "      <td>False</td>\n",
       "    </tr>\n",
       "  </tbody>\n",
       "</table>\n",
       "<p>5 rows × 29 columns</p>\n",
       "</div>"
      ],
      "text/plain": [
       "   accountNumber  customerId  creditLimit  availableMoney  \\\n",
       "0      737265056   737265056         5000          5000.0   \n",
       "1      737265056   737265056         5000          5000.0   \n",
       "2      737265056   737265056         5000          5000.0   \n",
       "3      737265056   737265056         5000          5000.0   \n",
       "4      830329091   830329091         5000          5000.0   \n",
       "\n",
       "   transactionDateTime  transactionAmount         merchantName acqCountry  \\\n",
       "0  2016-08-13T14:27:32              98.55                 Uber         US   \n",
       "1  2016-10-11T05:05:54              74.51          AMC #191138         US   \n",
       "2  2016-11-08T09:18:39               7.47           Play Store         US   \n",
       "3  2016-12-10T02:14:50               7.47           Play Store         US   \n",
       "4  2016-03-24T21:04:46              71.18  Tim Hortons #947751         US   \n",
       "\n",
       "  merchantCountryCode posEntryMode  ... echoBuffer currentBalance  \\\n",
       "0                  US           02  ...                       0.0   \n",
       "1                  US           09  ...                       0.0   \n",
       "2                  US           09  ...                       0.0   \n",
       "3                  US           09  ...                       0.0   \n",
       "4                  US           02  ...                       0.0   \n",
       "\n",
       "  merchantCity merchantState merchantZip  cardPresent  posOnPremises  \\\n",
       "0                                               False                  \n",
       "1                                                True                  \n",
       "2                                               False                  \n",
       "3                                               False                  \n",
       "4                                                True                  \n",
       "\n",
       "   recurringAuthInd expirationDateKeyInMatch isFraud  \n",
       "0                                      False   False  \n",
       "1                                      False   False  \n",
       "2                                      False   False  \n",
       "3                                      False   False  \n",
       "4                                      False   False  \n",
       "\n",
       "[5 rows x 29 columns]"
      ]
     },
     "execution_count": 9,
     "metadata": {},
     "output_type": "execute_result"
    }
   ],
   "source": [
    "df.head()"
   ]
  },
  {
   "cell_type": "code",
   "execution_count": 11,
   "id": "5fea44bb-369c-41f3-b268-97e69f33336f",
   "metadata": {},
   "outputs": [
    {
     "name": "stdout",
     "output_type": "stream",
     "text": [
      "Total NaN in Data: 0\n"
     ]
    },
    {
     "data": {
      "text/html": [
       "<div>\n",
       "<style scoped>\n",
       "    .dataframe tbody tr th:only-of-type {\n",
       "        vertical-align: middle;\n",
       "    }\n",
       "\n",
       "    .dataframe tbody tr th {\n",
       "        vertical-align: top;\n",
       "    }\n",
       "\n",
       "    .dataframe thead th {\n",
       "        text-align: right;\n",
       "    }\n",
       "</style>\n",
       "<table border=\"1\" class=\"dataframe\">\n",
       "  <thead>\n",
       "    <tr style=\"text-align: right;\">\n",
       "      <th></th>\n",
       "      <th>accountNumber</th>\n",
       "      <th>customerId</th>\n",
       "      <th>creditLimit</th>\n",
       "      <th>availableMoney</th>\n",
       "      <th>transactionAmount</th>\n",
       "      <th>cardCVV</th>\n",
       "      <th>enteredCVV</th>\n",
       "      <th>cardLast4Digits</th>\n",
       "      <th>currentBalance</th>\n",
       "    </tr>\n",
       "  </thead>\n",
       "  <tbody>\n",
       "    <tr>\n",
       "      <th>count</th>\n",
       "      <td>7.863630e+05</td>\n",
       "      <td>7.863630e+05</td>\n",
       "      <td>786363.000000</td>\n",
       "      <td>786363.000000</td>\n",
       "      <td>786363.000000</td>\n",
       "      <td>786363.000000</td>\n",
       "      <td>786363.000000</td>\n",
       "      <td>786363.000000</td>\n",
       "      <td>786363.000000</td>\n",
       "    </tr>\n",
       "    <tr>\n",
       "      <th>mean</th>\n",
       "      <td>5.372326e+08</td>\n",
       "      <td>5.372326e+08</td>\n",
       "      <td>10759.464459</td>\n",
       "      <td>6250.725369</td>\n",
       "      <td>136.985791</td>\n",
       "      <td>544.467338</td>\n",
       "      <td>544.183857</td>\n",
       "      <td>4757.417799</td>\n",
       "      <td>4508.739089</td>\n",
       "    </tr>\n",
       "    <tr>\n",
       "      <th>std</th>\n",
       "      <td>2.554211e+08</td>\n",
       "      <td>2.554211e+08</td>\n",
       "      <td>11636.174890</td>\n",
       "      <td>8880.783989</td>\n",
       "      <td>147.725569</td>\n",
       "      <td>261.524220</td>\n",
       "      <td>261.551254</td>\n",
       "      <td>2996.583810</td>\n",
       "      <td>6457.442068</td>\n",
       "    </tr>\n",
       "    <tr>\n",
       "      <th>min</th>\n",
       "      <td>1.000881e+08</td>\n",
       "      <td>1.000881e+08</td>\n",
       "      <td>250.000000</td>\n",
       "      <td>-1005.630000</td>\n",
       "      <td>0.000000</td>\n",
       "      <td>100.000000</td>\n",
       "      <td>0.000000</td>\n",
       "      <td>0.000000</td>\n",
       "      <td>0.000000</td>\n",
       "    </tr>\n",
       "    <tr>\n",
       "      <th>25%</th>\n",
       "      <td>3.301333e+08</td>\n",
       "      <td>3.301333e+08</td>\n",
       "      <td>5000.000000</td>\n",
       "      <td>1077.420000</td>\n",
       "      <td>33.650000</td>\n",
       "      <td>310.000000</td>\n",
       "      <td>310.000000</td>\n",
       "      <td>2178.000000</td>\n",
       "      <td>689.910000</td>\n",
       "    </tr>\n",
       "    <tr>\n",
       "      <th>50%</th>\n",
       "      <td>5.074561e+08</td>\n",
       "      <td>5.074561e+08</td>\n",
       "      <td>7500.000000</td>\n",
       "      <td>3184.860000</td>\n",
       "      <td>87.900000</td>\n",
       "      <td>535.000000</td>\n",
       "      <td>535.000000</td>\n",
       "      <td>4733.000000</td>\n",
       "      <td>2451.760000</td>\n",
       "    </tr>\n",
       "    <tr>\n",
       "      <th>75%</th>\n",
       "      <td>7.676200e+08</td>\n",
       "      <td>7.676200e+08</td>\n",
       "      <td>15000.000000</td>\n",
       "      <td>7500.000000</td>\n",
       "      <td>191.480000</td>\n",
       "      <td>785.000000</td>\n",
       "      <td>785.000000</td>\n",
       "      <td>7338.000000</td>\n",
       "      <td>5291.095000</td>\n",
       "    </tr>\n",
       "    <tr>\n",
       "      <th>max</th>\n",
       "      <td>9.993896e+08</td>\n",
       "      <td>9.993896e+08</td>\n",
       "      <td>50000.000000</td>\n",
       "      <td>50000.000000</td>\n",
       "      <td>2011.540000</td>\n",
       "      <td>998.000000</td>\n",
       "      <td>998.000000</td>\n",
       "      <td>9998.000000</td>\n",
       "      <td>47498.810000</td>\n",
       "    </tr>\n",
       "  </tbody>\n",
       "</table>\n",
       "</div>"
      ],
      "text/plain": [
       "       accountNumber    customerId    creditLimit  availableMoney  \\\n",
       "count   7.863630e+05  7.863630e+05  786363.000000   786363.000000   \n",
       "mean    5.372326e+08  5.372326e+08   10759.464459     6250.725369   \n",
       "std     2.554211e+08  2.554211e+08   11636.174890     8880.783989   \n",
       "min     1.000881e+08  1.000881e+08     250.000000    -1005.630000   \n",
       "25%     3.301333e+08  3.301333e+08    5000.000000     1077.420000   \n",
       "50%     5.074561e+08  5.074561e+08    7500.000000     3184.860000   \n",
       "75%     7.676200e+08  7.676200e+08   15000.000000     7500.000000   \n",
       "max     9.993896e+08  9.993896e+08   50000.000000    50000.000000   \n",
       "\n",
       "       transactionAmount        cardCVV     enteredCVV  cardLast4Digits  \\\n",
       "count      786363.000000  786363.000000  786363.000000    786363.000000   \n",
       "mean          136.985791     544.467338     544.183857      4757.417799   \n",
       "std           147.725569     261.524220     261.551254      2996.583810   \n",
       "min             0.000000     100.000000       0.000000         0.000000   \n",
       "25%            33.650000     310.000000     310.000000      2178.000000   \n",
       "50%            87.900000     535.000000     535.000000      4733.000000   \n",
       "75%           191.480000     785.000000     785.000000      7338.000000   \n",
       "max          2011.540000     998.000000     998.000000      9998.000000   \n",
       "\n",
       "       currentBalance  \n",
       "count   786363.000000  \n",
       "mean      4508.739089  \n",
       "std       6457.442068  \n",
       "min          0.000000  \n",
       "25%        689.910000  \n",
       "50%       2451.760000  \n",
       "75%       5291.095000  \n",
       "max      47498.810000  "
      ]
     },
     "execution_count": 11,
     "metadata": {},
     "output_type": "execute_result"
    }
   ],
   "source": [
    "p = df.isna().sum().sum()\n",
    "print(f\"Total NaN in Data: {p}\")\n",
    "\n",
    "df.describe()"
   ]
  },
  {
   "cell_type": "code",
   "execution_count": 12,
   "id": "1177b57d-f96e-4d5c-a5b2-725e85756708",
   "metadata": {},
   "outputs": [
    {
     "data": {
      "text/html": [
       "<div>\n",
       "<style scoped>\n",
       "    .dataframe tbody tr th:only-of-type {\n",
       "        vertical-align: middle;\n",
       "    }\n",
       "\n",
       "    .dataframe tbody tr th {\n",
       "        vertical-align: top;\n",
       "    }\n",
       "\n",
       "    .dataframe thead th {\n",
       "        text-align: right;\n",
       "    }\n",
       "</style>\n",
       "<table border=\"1\" class=\"dataframe\">\n",
       "  <thead>\n",
       "    <tr style=\"text-align: right;\">\n",
       "      <th></th>\n",
       "      <th>transactionDateTime</th>\n",
       "      <th>merchantName</th>\n",
       "      <th>acqCountry</th>\n",
       "      <th>merchantCountryCode</th>\n",
       "      <th>posEntryMode</th>\n",
       "      <th>posConditionCode</th>\n",
       "      <th>merchantCategoryCode</th>\n",
       "      <th>currentExpDate</th>\n",
       "      <th>accountOpenDate</th>\n",
       "      <th>dateOfLastAddressChange</th>\n",
       "      <th>transactionType</th>\n",
       "      <th>echoBuffer</th>\n",
       "      <th>merchantCity</th>\n",
       "      <th>merchantState</th>\n",
       "      <th>merchantZip</th>\n",
       "      <th>posOnPremises</th>\n",
       "      <th>recurringAuthInd</th>\n",
       "    </tr>\n",
       "  </thead>\n",
       "  <tbody>\n",
       "    <tr>\n",
       "      <th>count</th>\n",
       "      <td>786363</td>\n",
       "      <td>786363</td>\n",
       "      <td>786363</td>\n",
       "      <td>786363</td>\n",
       "      <td>786363</td>\n",
       "      <td>786363</td>\n",
       "      <td>786363</td>\n",
       "      <td>786363</td>\n",
       "      <td>786363</td>\n",
       "      <td>786363</td>\n",
       "      <td>786363</td>\n",
       "      <td>786363</td>\n",
       "      <td>786363</td>\n",
       "      <td>786363</td>\n",
       "      <td>786363</td>\n",
       "      <td>786363</td>\n",
       "      <td>786363</td>\n",
       "    </tr>\n",
       "    <tr>\n",
       "      <th>unique</th>\n",
       "      <td>776637</td>\n",
       "      <td>2490</td>\n",
       "      <td>5</td>\n",
       "      <td>5</td>\n",
       "      <td>6</td>\n",
       "      <td>4</td>\n",
       "      <td>19</td>\n",
       "      <td>165</td>\n",
       "      <td>1820</td>\n",
       "      <td>2184</td>\n",
       "      <td>4</td>\n",
       "      <td>1</td>\n",
       "      <td>1</td>\n",
       "      <td>1</td>\n",
       "      <td>1</td>\n",
       "      <td>1</td>\n",
       "      <td>1</td>\n",
       "    </tr>\n",
       "    <tr>\n",
       "      <th>top</th>\n",
       "      <td>2016-12-25T14:04:15</td>\n",
       "      <td>Uber</td>\n",
       "      <td>US</td>\n",
       "      <td>US</td>\n",
       "      <td>05</td>\n",
       "      <td>01</td>\n",
       "      <td>online_retail</td>\n",
       "      <td>03/2029</td>\n",
       "      <td>2014-06-21</td>\n",
       "      <td>2016-03-15</td>\n",
       "      <td>PURCHASE</td>\n",
       "      <td></td>\n",
       "      <td></td>\n",
       "      <td></td>\n",
       "      <td></td>\n",
       "      <td></td>\n",
       "      <td></td>\n",
       "    </tr>\n",
       "    <tr>\n",
       "      <th>freq</th>\n",
       "      <td>4</td>\n",
       "      <td>25613</td>\n",
       "      <td>774709</td>\n",
       "      <td>778511</td>\n",
       "      <td>315035</td>\n",
       "      <td>628787</td>\n",
       "      <td>202156</td>\n",
       "      <td>5103</td>\n",
       "      <td>33623</td>\n",
       "      <td>3819</td>\n",
       "      <td>745193</td>\n",
       "      <td>786363</td>\n",
       "      <td>786363</td>\n",
       "      <td>786363</td>\n",
       "      <td>786363</td>\n",
       "      <td>786363</td>\n",
       "      <td>786363</td>\n",
       "    </tr>\n",
       "  </tbody>\n",
       "</table>\n",
       "</div>"
      ],
      "text/plain": [
       "        transactionDateTime merchantName acqCountry merchantCountryCode  \\\n",
       "count                786363       786363     786363              786363   \n",
       "unique               776637         2490          5                   5   \n",
       "top     2016-12-25T14:04:15         Uber         US                  US   \n",
       "freq                      4        25613     774709              778511   \n",
       "\n",
       "       posEntryMode posConditionCode merchantCategoryCode currentExpDate  \\\n",
       "count        786363           786363               786363         786363   \n",
       "unique            6                4                   19            165   \n",
       "top              05               01        online_retail        03/2029   \n",
       "freq         315035           628787               202156           5103   \n",
       "\n",
       "       accountOpenDate dateOfLastAddressChange transactionType echoBuffer  \\\n",
       "count           786363                  786363          786363     786363   \n",
       "unique            1820                    2184               4          1   \n",
       "top         2014-06-21              2016-03-15        PURCHASE              \n",
       "freq             33623                    3819          745193     786363   \n",
       "\n",
       "       merchantCity merchantState merchantZip posOnPremises recurringAuthInd  \n",
       "count        786363        786363      786363        786363           786363  \n",
       "unique            1             1           1             1                1  \n",
       "top                                                                           \n",
       "freq         786363        786363      786363        786363           786363  "
      ]
     },
     "execution_count": 12,
     "metadata": {},
     "output_type": "execute_result"
    }
   ],
   "source": [
    "df.describe(include='object')"
   ]
  },
  {
   "cell_type": "markdown",
   "id": "bf2090dc-bcd5-40fd-8ca3-49feef654d9e",
   "metadata": {},
   "source": [
    "Most of columns normalized, but not all. I'll use catboost (boosting) - it does not need to normalize the rest of the data"
   ]
  },
  {
   "cell_type": "markdown",
   "id": "67cb84db-9a75-4ae2-896b-588a74c3fb54",
   "metadata": {},
   "source": [
    "## Target"
   ]
  },
  {
   "cell_type": "code",
   "execution_count": 14,
   "id": "d5fc7f92-af6d-4cfa-aaea-23e252a15dce",
   "metadata": {},
   "outputs": [
    {
     "data": {
      "text/plain": [
       "False"
      ]
     },
     "execution_count": 14,
     "metadata": {},
     "output_type": "execute_result"
    }
   ],
   "source": [
    "df['isFraud'][0]"
   ]
  },
  {
   "cell_type": "code",
   "execution_count": 16,
   "id": "069280e4-18ad-4ec5-ac91-f4b61933bdbe",
   "metadata": {},
   "outputs": [],
   "source": [
    "df['isFraud'] = df['isFraud'].apply(lambda x: 0 if x == False else 1)"
   ]
  },
  {
   "cell_type": "code",
   "execution_count": 20,
   "id": "bccd8ed3-6046-4d90-a739-9788656a129c",
   "metadata": {},
   "outputs": [
    {
     "data": {
      "image/png": "[encoded data removed]",
      "text/plain": [
       "<Figure size 400x400 with 1 Axes>"
      ]
     },
     "metadata": {},
     "output_type": "display_data"
    }
   ],
   "source": [
    "# Target plot\n",
    "plt.figure(figsize=(4, 4))\n",
    "\n",
    "df['isFraud'].value_counts().plot(kind=\"pie\")\n",
    "plt.title(\"Target class\")\n",
    "plt.ylabel(\"\")\n",
    "plt.xlabel(\"\")\n",
    "plt.show()"
   ]
  },
  {
   "cell_type": "code",
   "execution_count": 22,
   "id": "d4cff1e2-460f-4446-88e7-52347050a3d8",
   "metadata": {},
   "outputs": [
    {
     "data": {
      "text/plain": [
       "isFraud\n",
       "0    773946\n",
       "1     12417\n",
       "Name: count, dtype: int64"
      ]
     },
     "execution_count": 22,
     "metadata": {},
     "output_type": "execute_result"
    }
   ],
   "source": [
    "# Target counts\n",
    "df[\"isFraud\"].value_counts()"
   ]
  },
  {
   "cell_type": "markdown",
   "id": "f33ab843-06cb-4849-9f7e-40c77860f2f2",
   "metadata": {},
   "source": [
    "___bad data___"
   ]
  },
  {
   "cell_type": "code",
   "execution_count": 48,
   "id": "b928590e-1665-416a-b02f-1b9981229068",
   "metadata": {},
   "outputs": [],
   "source": [
    "bad_datat_list = [\n",
    "    'recurringAuthInd', 'echoBuffer',  'merchantCity', 'merchantState', 'merchantZip', 'posOnPremises'\n",
    "]"
   ]
  },
  {
   "cell_type": "code",
   "execution_count": 49,
   "id": "e1da9277-93c8-4397-99da-7d8e957ba13f",
   "metadata": {},
   "outputs": [
    {
     "data": {
      "text/plain": [
       "echoBuffer\n",
       "    786363\n",
       "Name: count, dtype: int64"
      ]
     },
     "metadata": {},
     "output_type": "display_data"
    },
    {
     "name": "stdout",
     "output_type": "stream",
     "text": [
      " \n"
     ]
    },
    {
     "data": {
      "text/plain": [
       "merchantCity\n",
       "    786363\n",
       "Name: count, dtype: int64"
      ]
     },
     "metadata": {},
     "output_type": "display_data"
    },
    {
     "name": "stdout",
     "output_type": "stream",
     "text": [
      " \n"
     ]
    },
    {
     "data": {
      "text/plain": [
       "merchantState\n",
       "    786363\n",
       "Name: count, dtype: int64"
      ]
     },
     "metadata": {},
     "output_type": "display_data"
    },
    {
     "name": "stdout",
     "output_type": "stream",
     "text": [
      " \n"
     ]
    },
    {
     "data": {
      "text/plain": [
       "merchantZip\n",
       "    786363\n",
       "Name: count, dtype: int64"
      ]
     },
     "metadata": {},
     "output_type": "display_data"
    },
    {
     "name": "stdout",
     "output_type": "stream",
     "text": [
      " \n"
     ]
    },
    {
     "data": {
      "text/plain": [
       "posOnPremises\n",
       "    786363\n",
       "Name: count, dtype: int64"
      ]
     },
     "metadata": {},
     "output_type": "display_data"
    },
    {
     "name": "stdout",
     "output_type": "stream",
     "text": [
      " \n"
     ]
    }
   ],
   "source": [
    "for col in bad_datat_list:\n",
    "    display(df[col].value_counts())\n",
    "    print(' ')"
   ]
  },
  {
   "cell_type": "code",
   "execution_count": 50,
   "id": "f6b59ccd-63d9-44a0-ac15-4be5a3bc3362",
   "metadata": {},
   "outputs": [],
   "source": [
    "df = df.drop(bad_datat_list, axis=1)"
   ]
  },
  {
   "cell_type": "markdown",
   "id": "6a62647a-52cc-4a9f-8619-072e1f799726",
   "metadata": {},
   "source": [
    "___merchantName___"
   ]
  },
  {
   "cell_type": "code",
   "execution_count": 51,
   "id": "34240c66-29e3-4714-a5bd-a04bf3681faf",
   "metadata": {},
   "outputs": [],
   "source": [
    "#df['merchantName'].value_counts().tail(50)"
   ]
  },
  {
   "cell_type": "markdown",
   "id": "cb34d1a0-1b7c-432a-843c-9f46949a74b2",
   "metadata": {},
   "source": [
    "___BIN COLS___"
   ]
  },
  {
   "cell_type": "code",
   "execution_count": 56,
   "id": "1ebcabec-25cc-4ca8-a318-b01a602a452c",
   "metadata": {},
   "outputs": [],
   "source": [
    "df['cardPresent'] = df['cardPresent'] * 1\n",
    "df['expirationDateKeyInMatch'] = df['expirationDateKeyInMatch'] * 1"
   ]
  },
  {
   "cell_type": "code",
   "execution_count": 57,
   "id": "1487b7f6-9425-4aca-b4d3-007be13c557f",
   "metadata": {},
   "outputs": [
    {
     "data": {
      "text/html": [
       "<div>\n",
       "<style scoped>\n",
       "    .dataframe tbody tr th:only-of-type {\n",
       "        vertical-align: middle;\n",
       "    }\n",
       "\n",
       "    .dataframe tbody tr th {\n",
       "        vertical-align: top;\n",
       "    }\n",
       "\n",
       "    .dataframe thead th {\n",
       "        text-align: right;\n",
       "    }\n",
       "</style>\n",
       "<table border=\"1\" class=\"dataframe\">\n",
       "  <thead>\n",
       "    <tr style=\"text-align: right;\">\n",
       "      <th></th>\n",
       "      <th>accountNumber</th>\n",
       "      <th>customerId</th>\n",
       "      <th>creditLimit</th>\n",
       "      <th>availableMoney</th>\n",
       "      <th>transactionDateTime</th>\n",
       "      <th>transactionAmount</th>\n",
       "      <th>merchantName</th>\n",
       "      <th>acqCountry</th>\n",
       "      <th>merchantCountryCode</th>\n",
       "      <th>posEntryMode</th>\n",
       "      <th>posConditionCode</th>\n",
       "      <th>merchantCategoryCode</th>\n",
       "      <th>currentExpDate</th>\n",
       "      <th>accountOpenDate</th>\n",
       "      <th>dateOfLastAddressChange</th>\n",
       "      <th>cardCVV</th>\n",
       "      <th>enteredCVV</th>\n",
       "      <th>cardLast4Digits</th>\n",
       "      <th>transactionType</th>\n",
       "      <th>currentBalance</th>\n",
       "      <th>cardPresent</th>\n",
       "      <th>expirationDateKeyInMatch</th>\n",
       "      <th>isFraud</th>\n",
       "    </tr>\n",
       "  </thead>\n",
       "  <tbody>\n",
       "    <tr>\n",
       "      <th>0</th>\n",
       "      <td>737265056</td>\n",
       "      <td>737265056</td>\n",
       "      <td>5000</td>\n",
       "      <td>5000.00</td>\n",
       "      <td>2016-08-13T14:27:32</td>\n",
       "      <td>98.55</td>\n",
       "      <td>Uber</td>\n",
       "      <td>US</td>\n",
       "      <td>US</td>\n",
       "      <td>02</td>\n",
       "      <td>01</td>\n",
       "      <td>rideshare</td>\n",
       "      <td>06/2023</td>\n",
       "      <td>2015-03-14</td>\n",
       "      <td>2015-03-14</td>\n",
       "      <td>414</td>\n",
       "      <td>414</td>\n",
       "      <td>1803</td>\n",
       "      <td>PURCHASE</td>\n",
       "      <td>0.00</td>\n",
       "      <td>0</td>\n",
       "      <td>0</td>\n",
       "      <td>0</td>\n",
       "    </tr>\n",
       "    <tr>\n",
       "      <th>1</th>\n",
       "      <td>737265056</td>\n",
       "      <td>737265056</td>\n",
       "      <td>5000</td>\n",
       "      <td>5000.00</td>\n",
       "      <td>2016-10-11T05:05:54</td>\n",
       "      <td>74.51</td>\n",
       "      <td>AMC #191138</td>\n",
       "      <td>US</td>\n",
       "      <td>US</td>\n",
       "      <td>09</td>\n",
       "      <td>01</td>\n",
       "      <td>entertainment</td>\n",
       "      <td>02/2024</td>\n",
       "      <td>2015-03-14</td>\n",
       "      <td>2015-03-14</td>\n",
       "      <td>486</td>\n",
       "      <td>486</td>\n",
       "      <td>767</td>\n",
       "      <td>PURCHASE</td>\n",
       "      <td>0.00</td>\n",
       "      <td>1</td>\n",
       "      <td>0</td>\n",
       "      <td>0</td>\n",
       "    </tr>\n",
       "    <tr>\n",
       "      <th>2</th>\n",
       "      <td>737265056</td>\n",
       "      <td>737265056</td>\n",
       "      <td>5000</td>\n",
       "      <td>5000.00</td>\n",
       "      <td>2016-11-08T09:18:39</td>\n",
       "      <td>7.47</td>\n",
       "      <td>Play Store</td>\n",
       "      <td>US</td>\n",
       "      <td>US</td>\n",
       "      <td>09</td>\n",
       "      <td>01</td>\n",
       "      <td>mobileapps</td>\n",
       "      <td>08/2025</td>\n",
       "      <td>2015-03-14</td>\n",
       "      <td>2015-03-14</td>\n",
       "      <td>486</td>\n",
       "      <td>486</td>\n",
       "      <td>767</td>\n",
       "      <td>PURCHASE</td>\n",
       "      <td>0.00</td>\n",
       "      <td>0</td>\n",
       "      <td>0</td>\n",
       "      <td>0</td>\n",
       "    </tr>\n",
       "    <tr>\n",
       "      <th>3</th>\n",
       "      <td>737265056</td>\n",
       "      <td>737265056</td>\n",
       "      <td>5000</td>\n",
       "      <td>5000.00</td>\n",
       "      <td>2016-12-10T02:14:50</td>\n",
       "      <td>7.47</td>\n",
       "      <td>Play Store</td>\n",
       "      <td>US</td>\n",
       "      <td>US</td>\n",
       "      <td>09</td>\n",
       "      <td>01</td>\n",
       "      <td>mobileapps</td>\n",
       "      <td>08/2025</td>\n",
       "      <td>2015-03-14</td>\n",
       "      <td>2015-03-14</td>\n",
       "      <td>486</td>\n",
       "      <td>486</td>\n",
       "      <td>767</td>\n",
       "      <td>PURCHASE</td>\n",
       "      <td>0.00</td>\n",
       "      <td>0</td>\n",
       "      <td>0</td>\n",
       "      <td>0</td>\n",
       "    </tr>\n",
       "    <tr>\n",
       "      <th>4</th>\n",
       "      <td>830329091</td>\n",
       "      <td>830329091</td>\n",
       "      <td>5000</td>\n",
       "      <td>5000.00</td>\n",
       "      <td>2016-03-24T21:04:46</td>\n",
       "      <td>71.18</td>\n",
       "      <td>Tim Hortons #947751</td>\n",
       "      <td>US</td>\n",
       "      <td>US</td>\n",
       "      <td>02</td>\n",
       "      <td>01</td>\n",
       "      <td>fastfood</td>\n",
       "      <td>10/2029</td>\n",
       "      <td>2015-08-06</td>\n",
       "      <td>2015-08-06</td>\n",
       "      <td>885</td>\n",
       "      <td>885</td>\n",
       "      <td>3143</td>\n",
       "      <td>PURCHASE</td>\n",
       "      <td>0.00</td>\n",
       "      <td>1</td>\n",
       "      <td>0</td>\n",
       "      <td>0</td>\n",
       "    </tr>\n",
       "    <tr>\n",
       "      <th>...</th>\n",
       "      <td>...</td>\n",
       "      <td>...</td>\n",
       "      <td>...</td>\n",
       "      <td>...</td>\n",
       "      <td>...</td>\n",
       "      <td>...</td>\n",
       "      <td>...</td>\n",
       "      <td>...</td>\n",
       "      <td>...</td>\n",
       "      <td>...</td>\n",
       "      <td>...</td>\n",
       "      <td>...</td>\n",
       "      <td>...</td>\n",
       "      <td>...</td>\n",
       "      <td>...</td>\n",
       "      <td>...</td>\n",
       "      <td>...</td>\n",
       "      <td>...</td>\n",
       "      <td>...</td>\n",
       "      <td>...</td>\n",
       "      <td>...</td>\n",
       "      <td>...</td>\n",
       "      <td>...</td>\n",
       "    </tr>\n",
       "    <tr>\n",
       "      <th>786358</th>\n",
       "      <td>732852505</td>\n",
       "      <td>732852505</td>\n",
       "      <td>50000</td>\n",
       "      <td>48904.96</td>\n",
       "      <td>2016-12-22T18:44:12</td>\n",
       "      <td>119.92</td>\n",
       "      <td>Lyft</td>\n",
       "      <td>US</td>\n",
       "      <td>US</td>\n",
       "      <td>90</td>\n",
       "      <td>01</td>\n",
       "      <td>rideshare</td>\n",
       "      <td>12/2022</td>\n",
       "      <td>2012-08-23</td>\n",
       "      <td>2012-08-23</td>\n",
       "      <td>936</td>\n",
       "      <td>936</td>\n",
       "      <td>3783</td>\n",
       "      <td>PURCHASE</td>\n",
       "      <td>1095.04</td>\n",
       "      <td>0</td>\n",
       "      <td>0</td>\n",
       "      <td>0</td>\n",
       "    </tr>\n",
       "    <tr>\n",
       "      <th>786359</th>\n",
       "      <td>732852505</td>\n",
       "      <td>732852505</td>\n",
       "      <td>50000</td>\n",
       "      <td>48785.04</td>\n",
       "      <td>2016-12-25T16:20:34</td>\n",
       "      <td>18.89</td>\n",
       "      <td>hulu.com</td>\n",
       "      <td>US</td>\n",
       "      <td>US</td>\n",
       "      <td>09</td>\n",
       "      <td>01</td>\n",
       "      <td>online_subscriptions</td>\n",
       "      <td>08/2023</td>\n",
       "      <td>2012-08-23</td>\n",
       "      <td>2012-08-23</td>\n",
       "      <td>939</td>\n",
       "      <td>939</td>\n",
       "      <td>3388</td>\n",
       "      <td>PURCHASE</td>\n",
       "      <td>1214.96</td>\n",
       "      <td>0</td>\n",
       "      <td>0</td>\n",
       "      <td>0</td>\n",
       "    </tr>\n",
       "    <tr>\n",
       "      <th>786360</th>\n",
       "      <td>732852505</td>\n",
       "      <td>732852505</td>\n",
       "      <td>50000</td>\n",
       "      <td>48766.15</td>\n",
       "      <td>2016-12-27T15:46:24</td>\n",
       "      <td>49.43</td>\n",
       "      <td>Lyft</td>\n",
       "      <td>US</td>\n",
       "      <td>US</td>\n",
       "      <td>02</td>\n",
       "      <td>01</td>\n",
       "      <td>rideshare</td>\n",
       "      <td>08/2025</td>\n",
       "      <td>2012-08-23</td>\n",
       "      <td>2012-08-23</td>\n",
       "      <td>936</td>\n",
       "      <td>936</td>\n",
       "      <td>3783</td>\n",
       "      <td>PURCHASE</td>\n",
       "      <td>1233.85</td>\n",
       "      <td>0</td>\n",
       "      <td>0</td>\n",
       "      <td>0</td>\n",
       "    </tr>\n",
       "    <tr>\n",
       "      <th>786361</th>\n",
       "      <td>732852505</td>\n",
       "      <td>732852505</td>\n",
       "      <td>50000</td>\n",
       "      <td>48716.72</td>\n",
       "      <td>2016-12-29T00:30:55</td>\n",
       "      <td>49.89</td>\n",
       "      <td>walmart.com</td>\n",
       "      <td>US</td>\n",
       "      <td>US</td>\n",
       "      <td>09</td>\n",
       "      <td>99</td>\n",
       "      <td>online_retail</td>\n",
       "      <td>07/2022</td>\n",
       "      <td>2012-08-23</td>\n",
       "      <td>2012-08-23</td>\n",
       "      <td>939</td>\n",
       "      <td>939</td>\n",
       "      <td>3388</td>\n",
       "      <td>PURCHASE</td>\n",
       "      <td>1283.28</td>\n",
       "      <td>0</td>\n",
       "      <td>0</td>\n",
       "      <td>0</td>\n",
       "    </tr>\n",
       "    <tr>\n",
       "      <th>786362</th>\n",
       "      <td>732852505</td>\n",
       "      <td>732852505</td>\n",
       "      <td>50000</td>\n",
       "      <td>48666.83</td>\n",
       "      <td>2016-12-30T20:10:29</td>\n",
       "      <td>72.18</td>\n",
       "      <td>Uber</td>\n",
       "      <td>US</td>\n",
       "      <td>US</td>\n",
       "      <td>05</td>\n",
       "      <td>01</td>\n",
       "      <td>rideshare</td>\n",
       "      <td>05/2024</td>\n",
       "      <td>2012-08-23</td>\n",
       "      <td>2012-08-23</td>\n",
       "      <td>939</td>\n",
       "      <td>939</td>\n",
       "      <td>3388</td>\n",
       "      <td>PURCHASE</td>\n",
       "      <td>1333.17</td>\n",
       "      <td>0</td>\n",
       "      <td>0</td>\n",
       "      <td>0</td>\n",
       "    </tr>\n",
       "  </tbody>\n",
       "</table>\n",
       "<p>786363 rows × 23 columns</p>\n",
       "</div>"
      ],
      "text/plain": [
       "        accountNumber  customerId  creditLimit  availableMoney  \\\n",
       "0           737265056   737265056         5000         5000.00   \n",
       "1           737265056   737265056         5000         5000.00   \n",
       "2           737265056   737265056         5000         5000.00   \n",
       "3           737265056   737265056         5000         5000.00   \n",
       "4           830329091   830329091         5000         5000.00   \n",
       "...               ...         ...          ...             ...   \n",
       "786358      732852505   732852505        50000        48904.96   \n",
       "786359      732852505   732852505        50000        48785.04   \n",
       "786360      732852505   732852505        50000        48766.15   \n",
       "786361      732852505   732852505        50000        48716.72   \n",
       "786362      732852505   732852505        50000        48666.83   \n",
       "\n",
       "        transactionDateTime  transactionAmount         merchantName  \\\n",
       "0       2016-08-13T14:27:32              98.55                 Uber   \n",
       "1       2016-10-11T05:05:54              74.51          AMC #191138   \n",
       "2       2016-11-08T09:18:39               7.47           Play Store   \n",
       "3       2016-12-10T02:14:50               7.47           Play Store   \n",
       "4       2016-03-24T21:04:46              71.18  Tim Hortons #947751   \n",
       "...                     ...                ...                  ...   \n",
       "786358  2016-12-22T18:44:12             119.92                 Lyft   \n",
       "786359  2016-12-25T16:20:34              18.89             hulu.com   \n",
       "786360  2016-12-27T15:46:24              49.43                 Lyft   \n",
       "786361  2016-12-29T00:30:55              49.89          walmart.com   \n",
       "786362  2016-12-30T20:10:29              72.18                 Uber   \n",
       "\n",
       "       acqCountry merchantCountryCode posEntryMode posConditionCode  \\\n",
       "0              US                  US           02               01   \n",
       "1              US                  US           09               01   \n",
       "2              US                  US           09               01   \n",
       "3              US                  US           09               01   \n",
       "4              US                  US           02               01   \n",
       "...           ...                 ...          ...              ...   \n",
       "786358         US                  US           90               01   \n",
       "786359         US                  US           09               01   \n",
       "786360         US                  US           02               01   \n",
       "786361         US                  US           09               99   \n",
       "786362         US                  US           05               01   \n",
       "\n",
       "        merchantCategoryCode currentExpDate accountOpenDate  \\\n",
       "0                  rideshare        06/2023      2015-03-14   \n",
       "1              entertainment        02/2024      2015-03-14   \n",
       "2                 mobileapps        08/2025      2015-03-14   \n",
       "3                 mobileapps        08/2025      2015-03-14   \n",
       "4                   fastfood        10/2029      2015-08-06   \n",
       "...                      ...            ...             ...   \n",
       "786358             rideshare        12/2022      2012-08-23   \n",
       "786359  online_subscriptions        08/2023      2012-08-23   \n",
       "786360             rideshare        08/2025      2012-08-23   \n",
       "786361         online_retail        07/2022      2012-08-23   \n",
       "786362             rideshare        05/2024      2012-08-23   \n",
       "\n",
       "       dateOfLastAddressChange  cardCVV  enteredCVV  cardLast4Digits  \\\n",
       "0                   2015-03-14      414         414             1803   \n",
       "1                   2015-03-14      486         486              767   \n",
       "2                   2015-03-14      486         486              767   \n",
       "3                   2015-03-14      486         486              767   \n",
       "4                   2015-08-06      885         885             3143   \n",
       "...                        ...      ...         ...              ...   \n",
       "786358              2012-08-23      936         936             3783   \n",
       "786359              2012-08-23      939         939             3388   \n",
       "786360              2012-08-23      936         936             3783   \n",
       "786361              2012-08-23      939         939             3388   \n",
       "786362              2012-08-23      939         939             3388   \n",
       "\n",
       "       transactionType  currentBalance  cardPresent  expirationDateKeyInMatch  \\\n",
       "0             PURCHASE            0.00            0                         0   \n",
       "1             PURCHASE            0.00            1                         0   \n",
       "2             PURCHASE            0.00            0                         0   \n",
       "3             PURCHASE            0.00            0                         0   \n",
       "4             PURCHASE            0.00            1                         0   \n",
       "...                ...             ...          ...                       ...   \n",
       "786358        PURCHASE         1095.04            0                         0   \n",
       "786359        PURCHASE         1214.96            0                         0   \n",
       "786360        PURCHASE         1233.85            0                         0   \n",
       "786361        PURCHASE         1283.28            0                         0   \n",
       "786362        PURCHASE         1333.17            0                         0   \n",
       "\n",
       "        isFraud  \n",
       "0             0  \n",
       "1             0  \n",
       "2             0  \n",
       "3             0  \n",
       "4             0  \n",
       "...         ...  \n",
       "786358        0  \n",
       "786359        0  \n",
       "786360        0  \n",
       "786361        0  \n",
       "786362        0  \n",
       "\n",
       "[786363 rows x 23 columns]"
      ]
     },
     "execution_count": 57,
     "metadata": {},
     "output_type": "execute_result"
    }
   ],
   "source": [
    "df"
   ]
  },
  {
   "cell_type": "markdown",
   "id": "fe754381-c1af-4d1b-99bc-9540d87215b2",
   "metadata": {},
   "source": [
    "# Modeling "
   ]
  },
  {
   "cell_type": "code",
   "execution_count": 29,
   "id": "aed2197c-8615-4bb0-ac47-b2ea52d1490a",
   "metadata": {},
   "outputs": [],
   "source": [
    "from sklearn.model_selection import train_test_split\n",
    "from catboost import Pool\n",
    "from catboost import CatBoostClassifier"
   ]
  },
  {
   "cell_type": "code",
   "execution_count": 61,
   "id": "18be8216-3cb3-4922-b22f-981b29cb2e2d",
   "metadata": {},
   "outputs": [],
   "source": [
    "time_drop = ['accountNumber', 'customerId', 'transactionDateTime', 'currentExpDate', 'accountOpenDate',  'dateOfLastAddressChange']"
   ]
  },
  {
   "cell_type": "code",
   "execution_count": 63,
   "id": "67ea6156-448d-4625-a19e-7518b021ff76",
   "metadata": {},
   "outputs": [],
   "source": [
    "df = df.drop(time_drop,axis=1)"
   ]
  },
  {
   "cell_type": "code",
   "execution_count": 60,
   "id": "4263111b-ff24-4ec4-8fe4-1b75894cb260",
   "metadata": {},
   "outputs": [],
   "source": [
    "cat_cols = [\n",
    "    'merchantName', 'acqCountry', 'merchantCountryCode', 'posEntryMode', \n",
    "    'posConditionCode', 'merchantCategoryCode', 'transactionType'\n",
    "]"
   ]
  },
  {
   "cell_type": "markdown",
   "id": "10bde02e-dbaa-4cf8-94ed-a449c2c5a246",
   "metadata": {},
   "source": [
    "___prepaid data___"
   ]
  },
  {
   "cell_type": "code",
   "execution_count": 64,
   "id": "a2f4cf4b-1d46-479d-ab3f-92041a763904",
   "metadata": {},
   "outputs": [],
   "source": [
    "X_train, X_test, y_train, y_test = train_test_split(\n",
    "    df.drop(\"isFraud\", axis=1),\n",
    "    df[\"isFraud\"],\n",
    "    test_size=0.30,\n",
    "    random_state=42,\n",
    "    stratify=df[\"isFraud\"],\n",
    ")"
   ]
  },
  {
   "cell_type": "code",
   "execution_count": 65,
   "id": "726d90dc-7d83-4ca4-b17c-97d22ce44ba6",
   "metadata": {},
   "outputs": [],
   "source": [
    "# Split test on valid + test\n",
    "X_valid, X_test, y_valid, y_test = train_test_split(\n",
    "    X_test, y_test, test_size=0.5, random_state=42, stratify=y_test\n",
    ")"
   ]
  },
  {
   "cell_type": "code",
   "execution_count": 66,
   "id": "8420b0ea-7051-468e-bdba-539126d6fdec",
   "metadata": {},
   "outputs": [],
   "source": [
    "train_pool = Pool(X_train, y_train, cat_features=cat_cols)\n",
    "valid_pool = Pool(X_valid, y_valid, cat_features=cat_cols)"
   ]
  },
  {
   "cell_type": "code",
   "execution_count": 70,
   "id": "ab12ac74-5d75-4ad1-8eb7-7c0fd27c3470",
   "metadata": {},
   "outputs": [
    {
     "name": "stdout",
     "output_type": "stream",
     "text": [
      "(550454, 16) 8692\n",
      "(117954, 16) 1862\n",
      "(117955, 16) 1863\n"
     ]
    }
   ],
   "source": [
    "print(X_train.shape, y_train.sum())\n",
    "print(X_valid.shape, y_valid.sum())\n",
    "print(X_test.shape, y_test.sum())"
   ]
  },
  {
   "cell_type": "markdown",
   "id": "f3287fd7-8ece-45be-9c00-e13d290d3965",
   "metadata": {},
   "source": [
    "__model__"
   ]
  },
  {
   "cell_type": "code",
   "execution_count": 71,
   "id": "d269aeac-29f6-4366-af2c-cbffdb03b77e",
   "metadata": {},
   "outputs": [],
   "source": [
    "from sklearn.metrics import roc_auc_score, average_precision_score"
   ]
  },
  {
   "cell_type": "code",
   "execution_count": 74,
   "id": "f2a1ffca-720b-4b87-ae8a-6819bff16454",
   "metadata": {},
   "outputs": [],
   "source": [
    "# Создаем экземпляр классификатора\n",
    "params = {\n",
    "    \"verbose\": 50,\n",
    "    \"random_seed\": 42,\n",
    "    \"learning_rate\": 0.05,\n",
    "    \"auto_class_weights\": \"Balanced\",\n",
    "    #'early_stopping_rounds' : 100,\n",
    "    \"eval_metric\": \"AUC\",\n",
    "    \"loss_function\": \"Logloss\",\n",
    "}\n",
    "\n",
    "\n",
    "cb = CatBoostClassifier(**params)"
   ]
  },
  {
   "cell_type": "code",
   "execution_count": 75,
   "id": "56f427e1-8875-4975-a2b3-a319126d1668",
   "metadata": {},
   "outputs": [
    {
     "data": {
      "application/vnd.jupyter.widget-view+json": {
       "model_id": "65bc16fb54d9428982ae8ecfe1fd9c60",
       "version_major": 2,
       "version_minor": 0
      },
      "text/plain": [
       "MetricVisualizer(layout=Layout(align_self='stretch', height='500px'))"
      ]
     },
     "metadata": {},
     "output_type": "display_data"
    },
    {
     "name": "stdout",
     "output_type": "stream",
     "text": [
      "0:\ttest: 0.7094745\tbest: 0.7094745 (0)\ttotal: 285ms\tremaining: 4m 44s\n",
      "50:\ttest: 0.7544729\tbest: 0.7544729 (50)\ttotal: 11s\tremaining: 3m 25s\n",
      "100:\ttest: 0.7741273\tbest: 0.7741273 (100)\ttotal: 21.3s\tremaining: 3m 9s\n",
      "150:\ttest: 0.7809589\tbest: 0.7809589 (150)\ttotal: 30.9s\tremaining: 2m 53s\n",
      "200:\ttest: 0.7889171\tbest: 0.7889171 (200)\ttotal: 40.2s\tremaining: 2m 39s\n",
      "250:\ttest: 0.7956940\tbest: 0.7956940 (250)\ttotal: 49.6s\tremaining: 2m 27s\n",
      "300:\ttest: 0.8055451\tbest: 0.8055451 (300)\ttotal: 1m\tremaining: 2m 21s\n",
      "350:\ttest: 0.8120967\tbest: 0.8121066 (349)\ttotal: 1m 11s\tremaining: 2m 12s\n",
      "400:\ttest: 0.8161949\tbest: 0.8161949 (400)\ttotal: 1m 23s\tremaining: 2m 4s\n",
      "450:\ttest: 0.8189744\tbest: 0.8189744 (450)\ttotal: 1m 34s\tremaining: 1m 54s\n",
      "500:\ttest: 0.8216112\tbest: 0.8216112 (500)\ttotal: 1m 45s\tremaining: 1m 45s\n",
      "550:\ttest: 0.8237668\tbest: 0.8237751 (545)\ttotal: 1m 56s\tremaining: 1m 34s\n",
      "600:\ttest: 0.8255181\tbest: 0.8255181 (600)\ttotal: 2m 7s\tremaining: 1m 24s\n",
      "650:\ttest: 0.8266117\tbest: 0.8266126 (649)\ttotal: 2m 18s\tremaining: 1m 14s\n",
      "700:\ttest: 0.8275806\tbest: 0.8276468 (686)\ttotal: 2m 30s\tremaining: 1m 4s\n",
      "750:\ttest: 0.8282649\tbest: 0.8282649 (750)\ttotal: 2m 41s\tremaining: 53.4s\n",
      "800:\ttest: 0.8288880\tbest: 0.8289007 (792)\ttotal: 2m 52s\tremaining: 42.8s\n",
      "850:\ttest: 0.8292058\tbest: 0.8292058 (850)\ttotal: 3m 3s\tremaining: 32.2s\n",
      "900:\ttest: 0.8297054\tbest: 0.8297054 (900)\ttotal: 3m 15s\tremaining: 21.4s\n",
      "950:\ttest: 0.8298026\tbest: 0.8300457 (907)\ttotal: 3m 26s\tremaining: 10.6s\n",
      "999:\ttest: 0.8303231\tbest: 0.8303461 (996)\ttotal: 3m 37s\tremaining: 0us\n",
      "\n",
      "bestTest = 0.8303460725\n",
      "bestIteration = 996\n",
      "\n",
      "Shrink model to first 997 iterations.\n"
     ]
    },
    {
     "data": {
      "text/plain": [
       "<catboost.core.CatBoostClassifier at 0x17c6e71d0>"
      ]
     },
     "execution_count": 75,
     "metadata": {},
     "output_type": "execute_result"
    }
   ],
   "source": [
    "# Обучаем модель на данных в Pool\n",
    "cb.fit(train_pool, eval_set=valid_pool, plot=True)"
   ]
  },
  {
   "cell_type": "code",
   "execution_count": 76,
   "id": "a4ded0b7-bd48-4710-b6fb-6a02fc3d7caa",
   "metadata": {},
   "outputs": [],
   "source": [
    "prediction = cb.predict_proba(X_test)[:, 1]"
   ]
  },
  {
   "cell_type": "code",
   "execution_count": 77,
   "id": "5f50980c-369a-4a4c-a54d-1257b27bb5da",
   "metadata": {},
   "outputs": [
    {
     "data": {
      "image/png": "[encoded data removed]",
      "text/plain": [
       "<Figure size 640x480 with 1 Axes>"
      ]
     },
     "metadata": {},
     "output_type": "display_data"
    }
   ],
   "source": [
    "plt.hist(prediction)\n",
    "\n",
    "plt.show()"
   ]
  },
  {
   "cell_type": "code",
   "execution_count": 78,
   "id": "37a06eab-1835-4b14-945c-b908a24c13b9",
   "metadata": {},
   "outputs": [
    {
     "data": {
      "text/plain": [
       "0.8373593039810412"
      ]
     },
     "execution_count": 78,
     "metadata": {},
     "output_type": "execute_result"
    }
   ],
   "source": [
    "roc_auc_score(y_test, prediction)"
   ]
  },
  {
   "cell_type": "code",
   "execution_count": 79,
   "id": "2d814cd3-0f83-4adc-a4b5-b4377f8069a1",
   "metadata": {},
   "outputs": [],
   "source": [
    "from sklearn.metrics import confusion_matrix"
   ]
  },
  {
   "cell_type": "code",
   "execution_count": 80,
   "id": "c6fc5341-37d6-4d26-af81-7f1cd84b1c9e",
   "metadata": {},
   "outputs": [],
   "source": [
    "df_test_metric = pd.DataFrame()\n",
    "df_test_metric[\"score\"] = prediction\n",
    "df_test_metric[\"true\"] = y_test.values"
   ]
  },
  {
   "cell_type": "code",
   "execution_count": 81,
   "id": "4e1c5432-e16c-4175-a4a0-e7dcbcae772a",
   "metadata": {},
   "outputs": [],
   "source": [
    "import math"
   ]
  },
  {
   "cell_type": "code",
   "execution_count": 82,
   "id": "82218385-70a7-4909-a014-0c091d62b174",
   "metadata": {},
   "outputs": [],
   "source": [
    "df_test_metric[\"score_bin\"] = df_test_metric[\"score\"].apply(lambda x: math.floor(x * 10))"
   ]
  },
  {
   "cell_type": "code",
   "execution_count": 83,
   "id": "53b340ee-e30d-4065-9276-f6c39e4653ae",
   "metadata": {},
   "outputs": [
    {
     "data": {
      "text/html": [
       "<div>\n",
       "<style scoped>\n",
       "    .dataframe tbody tr th:only-of-type {\n",
       "        vertical-align: middle;\n",
       "    }\n",
       "\n",
       "    .dataframe tbody tr th {\n",
       "        vertical-align: top;\n",
       "    }\n",
       "\n",
       "    .dataframe thead th {\n",
       "        text-align: right;\n",
       "    }\n",
       "</style>\n",
       "<table border=\"1\" class=\"dataframe\">\n",
       "  <thead>\n",
       "    <tr style=\"text-align: right;\">\n",
       "      <th></th>\n",
       "      <th>score_bin</th>\n",
       "      <th>mean</th>\n",
       "      <th>count</th>\n",
       "      <th>sum</th>\n",
       "    </tr>\n",
       "  </thead>\n",
       "  <tbody>\n",
       "    <tr>\n",
       "      <th>0</th>\n",
       "      <td>0</td>\n",
       "      <td>0.10</td>\n",
       "      <td>22095</td>\n",
       "      <td>22</td>\n",
       "    </tr>\n",
       "    <tr>\n",
       "      <th>1</th>\n",
       "      <td>1</td>\n",
       "      <td>0.26</td>\n",
       "      <td>21333</td>\n",
       "      <td>56</td>\n",
       "    </tr>\n",
       "    <tr>\n",
       "      <th>2</th>\n",
       "      <td>2</td>\n",
       "      <td>0.59</td>\n",
       "      <td>20582</td>\n",
       "      <td>121</td>\n",
       "    </tr>\n",
       "    <tr>\n",
       "      <th>3</th>\n",
       "      <td>3</td>\n",
       "      <td>0.86</td>\n",
       "      <td>15904</td>\n",
       "      <td>137</td>\n",
       "    </tr>\n",
       "    <tr>\n",
       "      <th>4</th>\n",
       "      <td>4</td>\n",
       "      <td>1.48</td>\n",
       "      <td>12403</td>\n",
       "      <td>183</td>\n",
       "    </tr>\n",
       "    <tr>\n",
       "      <th>5</th>\n",
       "      <td>5</td>\n",
       "      <td>2.19</td>\n",
       "      <td>9448</td>\n",
       "      <td>207</td>\n",
       "    </tr>\n",
       "    <tr>\n",
       "      <th>6</th>\n",
       "      <td>6</td>\n",
       "      <td>3.82</td>\n",
       "      <td>7173</td>\n",
       "      <td>274</td>\n",
       "    </tr>\n",
       "    <tr>\n",
       "      <th>7</th>\n",
       "      <td>7</td>\n",
       "      <td>5.85</td>\n",
       "      <td>5438</td>\n",
       "      <td>318</td>\n",
       "    </tr>\n",
       "    <tr>\n",
       "      <th>8</th>\n",
       "      <td>8</td>\n",
       "      <td>10.68</td>\n",
       "      <td>2950</td>\n",
       "      <td>315</td>\n",
       "    </tr>\n",
       "    <tr>\n",
       "      <th>9</th>\n",
       "      <td>9</td>\n",
       "      <td>36.57</td>\n",
       "      <td>629</td>\n",
       "      <td>230</td>\n",
       "    </tr>\n",
       "  </tbody>\n",
       "</table>\n",
       "</div>"
      ],
      "text/plain": [
       "   score_bin   mean  count  sum\n",
       "0          0   0.10  22095   22\n",
       "1          1   0.26  21333   56\n",
       "2          2   0.59  20582  121\n",
       "3          3   0.86  15904  137\n",
       "4          4   1.48  12403  183\n",
       "5          5   2.19   9448  207\n",
       "6          6   3.82   7173  274\n",
       "7          7   5.85   5438  318\n",
       "8          8  10.68   2950  315\n",
       "9          9  36.57    629  230"
      ]
     },
     "execution_count": 83,
     "metadata": {},
     "output_type": "execute_result"
    }
   ],
   "source": [
    "metrics_df = (\n",
    "    df_test_metric.groupby(\"score_bin\")[\"true\"]\n",
    "    .agg([\"mean\", \"count\", \"sum\"])\n",
    "    .reset_index()\n",
    ")\n",
    "metrics_df[\"mean\"] = round(metrics_df[\"mean\"] * 100, 2)\n",
    "metrics_df"
   ]
  },
  {
   "cell_type": "code",
   "execution_count": null,
   "id": "77388508-30f0-4eb8-ac34-2e03182bf17c",
   "metadata": {},
   "outputs": [],
   "source": []
  }
 ],
 "metadata": {
  "kernelspec": {
   "display_name": "Python 3 (ipykernel)",
   "language": "python",
   "name": "python3"
  },
  "language_info": {
   "codemirror_mode": {
    "name": "ipython",
    "version": 3
   },
   "file_extension": ".py",
   "mimetype": "text/x-python",
   "name": "python",
   "nbconvert_exporter": "python",
   "pygments_lexer": "ipython3",
   "version": "3.11.5"
  }
 },
 "nbformat": 4,
 "nbformat_minor": 5
}
